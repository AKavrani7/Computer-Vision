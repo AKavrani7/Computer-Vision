{
 "cells": [
  {
   "cell_type": "code",
   "execution_count": 2,
   "metadata": {},
   "outputs": [],
   "source": [
    "import tensorflow as tf\n",
    "\n",
    "#Tensor is an array-like object, an array can hold matrix, vector, and really even a scalar.\n",
    "#TensorFLow is functions on tensors.\n",
    "\n",
    "#Consider the neural network.\n",
    "#Data (X), weights (w), and thresholds (t).\n",
    "#X will be the dataset (an array), so that's a tensor. \n",
    "#The weights are also an array of weight values.\n",
    "#Thus, our neural network is indeed a function of X,w, and t, or f(Xwt).\n",
    "#TensorFlow works by first defining and describing our model in abstract.\n"
   ]
  },
  {
   "cell_type": "code",
   "execution_count": 5,
   "metadata": {},
   "outputs": [
    {
     "name": "stdout",
     "output_type": "stream",
     "text": [
      "Tensor(\"Mul_1:0\", shape=(), dtype=int32)\n",
      "30\n",
      "30\n"
     ]
    }
   ],
   "source": [
    "#01_Basics\n",
    "\n",
    "## Construct the graph \n",
    "#x1 and x2 are nodes\n",
    "x1 = tf.constant(6)\n",
    "x2 = tf.constant(5)\n",
    "\n",
    "result = tf.multiply(x1,x2)\n",
    "print(result) #output is just an abstract tensor\n",
    "#No actual calculations have been run, only operations created.\n",
    "#Each operation, or \"op,\" in our computation graph is a \"node\" in the graph.\n",
    "\n",
    "## To actually see the result\n",
    "#we need to run the session. Generally, you build the graph first, then you \"launch\" the graph:\n",
    "#Defines our session and launches graph\n",
    "\n",
    "#Option-1 \n",
    "sess = tf.Session() \n",
    "#Runs Result\n",
    "output = sess.run(result) \n",
    "print(output)\n",
    "#Close the Session\n",
    "sess.close()\n",
    "\n",
    "#Option-2\n",
    "with tf.Session() as sess:\n",
    "    output = sess.run(result)\n",
    "    print(output)\n"
   ]
  },
  {
   "cell_type": "code",
   "execution_count": null,
   "metadata": {},
   "outputs": [],
   "source": []
  }
 ],
 "metadata": {
  "kernelspec": {
   "display_name": "Python 3",
   "language": "python",
   "name": "python3"
  },
  "language_info": {
   "codemirror_mode": {
    "name": "ipython",
    "version": 3
   },
   "file_extension": ".py",
   "mimetype": "text/x-python",
   "name": "python",
   "nbconvert_exporter": "python",
   "pygments_lexer": "ipython3",
   "version": "3.5.2"
  }
 },
 "nbformat": 4,
 "nbformat_minor": 2
}
